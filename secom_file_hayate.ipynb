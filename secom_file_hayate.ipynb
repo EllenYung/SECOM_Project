{
 "cells": [
  {
   "cell_type": "markdown",
   "id": "82873ae8",
   "metadata": {},
   "source": [
    "# 2.0 DATA UNDERSTANDING STAGE"
   ]
  },
  {
   "cell_type": "markdown",
   "id": "fc768422",
   "metadata": {},
   "source": [
    "### 2.1 libraries"
   ]
  },
  {
   "cell_type": "markdown",
   "id": "fc43b761",
   "metadata": {},
   "source": [
    "##### 2.1 -1 Install required libraries "
   ]
  },
  {
   "cell_type": "code",
   "execution_count": 1,
   "id": "03b140fe",
   "metadata": {
    "scrolled": true
   },
   "outputs": [],
   "source": [
    "# !pip install numpy\n",
    "# !pip install pandas\n",
    "# !pip install requests\n",
    "# !pip install matplotlib"
   ]
  },
  {
   "cell_type": "markdown",
   "id": "1e242f3f",
   "metadata": {},
   "source": [
    "##### 2.1 -2 Import Required libraries"
   ]
  },
  {
   "cell_type": "code",
   "execution_count": 1,
   "id": "43a2e69a-926e-426f-b91d-1fed666dc9ff",
   "metadata": {},
   "outputs": [],
   "source": [
    "import numpy as np\n",
    "import pandas as pd\n",
    "import requests\n",
    "import zipfile\n",
    "from io import BytesIO\n",
    "import matplotlib as plt\n",
    "from sklearn.model_selection import train_test_split\n",
    "\n",
    "import plotly.graph_objs as go # bar and pie charts, Plotly\n",
    "import plotly"
   ]
  },
  {
   "cell_type": "code",
   "execution_count": null,
   "id": "8fa3398a",
   "metadata": {},
   "outputs": [],
   "source": []
  },
  {
   "cell_type": "code",
   "execution_count": null,
   "id": "a7ead52e",
   "metadata": {},
   "outputs": [],
   "source": []
  },
  {
   "cell_type": "markdown",
   "id": "e2f76181-4b97-4daa-822e-751e0c49f719",
   "metadata": {},
   "source": [
    "## 2.2 Importing data"
   ]
  },
  {
   "cell_type": "markdown",
   "id": "1cf62ae6",
   "metadata": {},
   "source": [
    "#### 2.2 -1 retrieving data"
   ]
  },
  {
   "cell_type": "code",
   "execution_count": 3,
   "id": "40733590-fa15-4443-bd32-643dce8cf3d7",
   "metadata": {},
   "outputs": [
    {
     "name": "stdout",
     "output_type": "stream",
     "text": [
      "['secom.data', 'secom.names', 'secom_labels.data']\n"
     ]
    }
   ],
   "source": [
    "# URL of the zipped folder\n",
    "url = \"https://archive.ics.uci.edu/static/public/179/secom.zip\"\n",
    "\n",
    "# download the zipped folder using request library\n",
    "zip_file = requests.get(url)\n",
    "\n",
    "# opening the zipped folder\n",
    "secom_files =  zipfile.ZipFile(BytesIO(zip_file.content), 'r')\n",
    "\n",
    "# printing the file names inside the zip\n",
    "secom_files_names =  (zipfile.ZipFile(BytesIO(zip_file.content))).namelist()\n",
    "print(secom_files_names)"
   ]
  },
  {
   "cell_type": "code",
   "execution_count": 4,
   "id": "ea31b4fb-cecd-4f16-8136-ff1090e43133",
   "metadata": {},
   "outputs": [],
   "source": [
    "# reading the relevant files \n",
    "\n",
    "f_file = secom_files.open('secom.data')\n",
    "l_file = secom_files.open('secom_labels.data')\n",
    "n_file = secom_files.open('secom.names')\n"
   ]
  },
  {
   "cell_type": "markdown",
   "id": "982e0394",
   "metadata": {},
   "source": [
    "#### 2.2 -2 labels data"
   ]
  },
  {
   "cell_type": "code",
   "execution_count": 5,
   "id": "17410d0e-7217-4e08-b8d3-8d6ab4ecc539",
   "metadata": {},
   "outputs": [
    {
     "name": "stdout",
     "output_type": "stream",
     "text": [
      "Dimensions of Labels data:  (1567, 2)\n",
      "   classifications            date_time\n",
      "0               -1  19/07/2008 11:55:00\n",
      "1               -1  19/07/2008 12:32:00\n",
      "2                1  19/07/2008 13:17:00\n",
      "3               -1  19/07/2008 14:43:00\n",
      "4               -1  19/07/2008 15:22:00\n"
     ]
    }
   ],
   "source": [
    "#Create column names and pandas dataframes for labels data\n",
    "\n",
    "l_column_names=['classifications', 'date_time'] #### create column labels\n",
    "\n",
    "labels_df = pd.read_csv(l_file, sep=r'\\s+', header=None, names= l_column_names)\n",
    "\n",
    "print(f\"Dimensions of Labels data: \", labels_df.shape)\n",
    "\n",
    "print(labels_df.head(5))"
   ]
  },
  {
   "cell_type": "code",
   "execution_count": 19,
   "id": "9f5a69bd",
   "metadata": {},
   "outputs": [
    {
     "data": {
      "text/plain": [
       "classifications    0\n",
       "date_time          0\n",
       "dtype: int64"
      ]
     },
     "execution_count": 19,
     "metadata": {},
     "output_type": "execute_result"
    }
   ],
   "source": [
    "labels_df.isna().sum()"
   ]
  },
  {
   "cell_type": "markdown",
   "id": "7714e339",
   "metadata": {},
   "source": [
    "##### 2.2 -2-1 timestamps & checking its chronological order (from oldest to newest)\n"
   ]
  },
  {
   "cell_type": "code",
   "execution_count": 52,
   "id": "113ef42f",
   "metadata": {},
   "outputs": [
    {
     "name": "stdout",
     "output_type": "stream",
     "text": [
      "      classifications            date_time\n",
      "1562               -1  16/10/2008 15:13:00\n",
      "1563               -1  16/10/2008 20:49:00\n",
      "1564               -1  17/10/2008 05:26:00\n",
      "1565               -1  17/10/2008 06:01:00\n",
      "1566               -1  17/10/2008 06:07:00\n"
     ]
    }
   ],
   "source": [
    "print(labels_df.tail(5))"
   ]
  },
  {
   "cell_type": "code",
   "execution_count": 53,
   "id": "88ee4755",
   "metadata": {},
   "outputs": [
    {
     "name": "stdout",
     "output_type": "stream",
     "text": [
      "The timestamps column is in ascending (oldest to newest) order.\n"
     ]
    }
   ],
   "source": [
    "labels_df['date_time'] = pd.to_datetime(labels_df['date_time'], format='%d/%m/%Y %H:%M:%S')\n",
    "\n",
    "is_ascending = labels_df['date_time'].is_monotonic_increasing\n",
    "\n",
    "if is_ascending:\n",
    "    print(\"The timestamps column is in ascending (oldest to newest) order.\")\n",
    "else:\n",
    "    print(\"The timestamps column is not in ascending (newest to oldest) order.\")"
   ]
  },
  {
   "cell_type": "markdown",
   "id": "ea767c99-affc-4c93-8e12-85043b82b8c6",
   "metadata": {},
   "source": [
    "##### 2.2 -2-2 Date columns separation"
   ]
  },
  {
   "cell_type": "code",
   "execution_count": 54,
   "id": "6a46ab8e-d334-4664-92c4-fc558571058a",
   "metadata": {
    "tags": []
   },
   "outputs": [],
   "source": [
    "# # separating date columns \n",
    "# t_df = labels_df.copy()\n",
    "# t_df[\"time\"] = t_df[\"date_time\"].dt.time\n",
    "# t_df[\"date\"] = pd.to_datetime(t_df[\"date_time\"].dt.date)\n",
    "# t_df[\"year\"] = t_df[\"date\"].dt.year\n",
    "# t_df[\"month\"] = t_df[\"date\"].dt.month\n",
    "# t_df[\"day\"] = t_df[\"date\"].dt.day\n",
    "\n",
    "# t_df"
   ]
  },
  {
   "cell_type": "markdown",
   "id": "30d5768e-25eb-48ad-8cf9-3fa57ce0aafe",
   "metadata": {
    "tags": []
   },
   "source": [
    "### checking the test result"
   ]
  },
  {
   "cell_type": "code",
   "execution_count": 8,
   "id": "54021934-1491-4811-bbe5-c233991c484a",
   "metadata": {
    "tags": []
   },
   "outputs": [
    {
     "name": "stdout",
     "output_type": "stream",
     "text": [
      "The number of failure: 104 \n",
      "The number of pass:    1463\n"
     ]
    },
    {
     "data": {
      "application/vnd.plotly.v1+json": {
       "config": {
        "linkText": "Export to plot.ly",
        "plotlyServerURL": "https://plot.ly",
        "showLink": false
       },
       "data": [
        {
         "marker": {
          "color": [
           "green",
           "blue"
          ],
          "line": {
           "color": "#000000",
           "width": 1.5
          }
         },
         "opacity": 0.8,
         "orientation": "h",
         "type": "bar",
         "x": [
          104,
          1463
         ],
         "y": [
          "Fail",
          "Pass"
         ]
        }
       ],
       "layout": {
        "template": {
         "data": {
          "bar": [
           {
            "error_x": {
             "color": "#2a3f5f"
            },
            "error_y": {
             "color": "#2a3f5f"
            },
            "marker": {
             "line": {
              "color": "#E5ECF6",
              "width": 0.5
             },
             "pattern": {
              "fillmode": "overlay",
              "size": 10,
              "solidity": 0.2
             }
            },
            "type": "bar"
           }
          ],
          "barpolar": [
           {
            "marker": {
             "line": {
              "color": "#E5ECF6",
              "width": 0.5
             },
             "pattern": {
              "fillmode": "overlay",
              "size": 10,
              "solidity": 0.2
             }
            },
            "type": "barpolar"
           }
          ],
          "carpet": [
           {
            "aaxis": {
             "endlinecolor": "#2a3f5f",
             "gridcolor": "white",
             "linecolor": "white",
             "minorgridcolor": "white",
             "startlinecolor": "#2a3f5f"
            },
            "baxis": {
             "endlinecolor": "#2a3f5f",
             "gridcolor": "white",
             "linecolor": "white",
             "minorgridcolor": "white",
             "startlinecolor": "#2a3f5f"
            },
            "type": "carpet"
           }
          ],
          "choropleth": [
           {
            "colorbar": {
             "outlinewidth": 0,
             "ticks": ""
            },
            "type": "choropleth"
           }
          ],
          "contour": [
           {
            "colorbar": {
             "outlinewidth": 0,
             "ticks": ""
            },
            "colorscale": [
             [
              0,
              "#0d0887"
             ],
             [
              0.1111111111111111,
              "#46039f"
             ],
             [
              0.2222222222222222,
              "#7201a8"
             ],
             [
              0.3333333333333333,
              "#9c179e"
             ],
             [
              0.4444444444444444,
              "#bd3786"
             ],
             [
              0.5555555555555556,
              "#d8576b"
             ],
             [
              0.6666666666666666,
              "#ed7953"
             ],
             [
              0.7777777777777778,
              "#fb9f3a"
             ],
             [
              0.8888888888888888,
              "#fdca26"
             ],
             [
              1,
              "#f0f921"
             ]
            ],
            "type": "contour"
           }
          ],
          "contourcarpet": [
           {
            "colorbar": {
             "outlinewidth": 0,
             "ticks": ""
            },
            "type": "contourcarpet"
           }
          ],
          "heatmap": [
           {
            "colorbar": {
             "outlinewidth": 0,
             "ticks": ""
            },
            "colorscale": [
             [
              0,
              "#0d0887"
             ],
             [
              0.1111111111111111,
              "#46039f"
             ],
             [
              0.2222222222222222,
              "#7201a8"
             ],
             [
              0.3333333333333333,
              "#9c179e"
             ],
             [
              0.4444444444444444,
              "#bd3786"
             ],
             [
              0.5555555555555556,
              "#d8576b"
             ],
             [
              0.6666666666666666,
              "#ed7953"
             ],
             [
              0.7777777777777778,
              "#fb9f3a"
             ],
             [
              0.8888888888888888,
              "#fdca26"
             ],
             [
              1,
              "#f0f921"
             ]
            ],
            "type": "heatmap"
           }
          ],
          "heatmapgl": [
           {
            "colorbar": {
             "outlinewidth": 0,
             "ticks": ""
            },
            "colorscale": [
             [
              0,
              "#0d0887"
             ],
             [
              0.1111111111111111,
              "#46039f"
             ],
             [
              0.2222222222222222,
              "#7201a8"
             ],
             [
              0.3333333333333333,
              "#9c179e"
             ],
             [
              0.4444444444444444,
              "#bd3786"
             ],
             [
              0.5555555555555556,
              "#d8576b"
             ],
             [
              0.6666666666666666,
              "#ed7953"
             ],
             [
              0.7777777777777778,
              "#fb9f3a"
             ],
             [
              0.8888888888888888,
              "#fdca26"
             ],
             [
              1,
              "#f0f921"
             ]
            ],
            "type": "heatmapgl"
           }
          ],
          "histogram": [
           {
            "marker": {
             "pattern": {
              "fillmode": "overlay",
              "size": 10,
              "solidity": 0.2
             }
            },
            "type": "histogram"
           }
          ],
          "histogram2d": [
           {
            "colorbar": {
             "outlinewidth": 0,
             "ticks": ""
            },
            "colorscale": [
             [
              0,
              "#0d0887"
             ],
             [
              0.1111111111111111,
              "#46039f"
             ],
             [
              0.2222222222222222,
              "#7201a8"
             ],
             [
              0.3333333333333333,
              "#9c179e"
             ],
             [
              0.4444444444444444,
              "#bd3786"
             ],
             [
              0.5555555555555556,
              "#d8576b"
             ],
             [
              0.6666666666666666,
              "#ed7953"
             ],
             [
              0.7777777777777778,
              "#fb9f3a"
             ],
             [
              0.8888888888888888,
              "#fdca26"
             ],
             [
              1,
              "#f0f921"
             ]
            ],
            "type": "histogram2d"
           }
          ],
          "histogram2dcontour": [
           {
            "colorbar": {
             "outlinewidth": 0,
             "ticks": ""
            },
            "colorscale": [
             [
              0,
              "#0d0887"
             ],
             [
              0.1111111111111111,
              "#46039f"
             ],
             [
              0.2222222222222222,
              "#7201a8"
             ],
             [
              0.3333333333333333,
              "#9c179e"
             ],
             [
              0.4444444444444444,
              "#bd3786"
             ],
             [
              0.5555555555555556,
              "#d8576b"
             ],
             [
              0.6666666666666666,
              "#ed7953"
             ],
             [
              0.7777777777777778,
              "#fb9f3a"
             ],
             [
              0.8888888888888888,
              "#fdca26"
             ],
             [
              1,
              "#f0f921"
             ]
            ],
            "type": "histogram2dcontour"
           }
          ],
          "mesh3d": [
           {
            "colorbar": {
             "outlinewidth": 0,
             "ticks": ""
            },
            "type": "mesh3d"
           }
          ],
          "parcoords": [
           {
            "line": {
             "colorbar": {
              "outlinewidth": 0,
              "ticks": ""
             }
            },
            "type": "parcoords"
           }
          ],
          "pie": [
           {
            "automargin": true,
            "type": "pie"
           }
          ],
          "scatter": [
           {
            "marker": {
             "colorbar": {
              "outlinewidth": 0,
              "ticks": ""
             }
            },
            "type": "scatter"
           }
          ],
          "scatter3d": [
           {
            "line": {
             "colorbar": {
              "outlinewidth": 0,
              "ticks": ""
             }
            },
            "marker": {
             "colorbar": {
              "outlinewidth": 0,
              "ticks": ""
             }
            },
            "type": "scatter3d"
           }
          ],
          "scattercarpet": [
           {
            "marker": {
             "colorbar": {
              "outlinewidth": 0,
              "ticks": ""
             }
            },
            "type": "scattercarpet"
           }
          ],
          "scattergeo": [
           {
            "marker": {
             "colorbar": {
              "outlinewidth": 0,
              "ticks": ""
             }
            },
            "type": "scattergeo"
           }
          ],
          "scattergl": [
           {
            "marker": {
             "colorbar": {
              "outlinewidth": 0,
              "ticks": ""
             }
            },
            "type": "scattergl"
           }
          ],
          "scattermapbox": [
           {
            "marker": {
             "colorbar": {
              "outlinewidth": 0,
              "ticks": ""
             }
            },
            "type": "scattermapbox"
           }
          ],
          "scatterpolar": [
           {
            "marker": {
             "colorbar": {
              "outlinewidth": 0,
              "ticks": ""
             }
            },
            "type": "scatterpolar"
           }
          ],
          "scatterpolargl": [
           {
            "marker": {
             "colorbar": {
              "outlinewidth": 0,
              "ticks": ""
             }
            },
            "type": "scatterpolargl"
           }
          ],
          "scatterternary": [
           {
            "marker": {
             "colorbar": {
              "outlinewidth": 0,
              "ticks": ""
             }
            },
            "type": "scatterternary"
           }
          ],
          "surface": [
           {
            "colorbar": {
             "outlinewidth": 0,
             "ticks": ""
            },
            "colorscale": [
             [
              0,
              "#0d0887"
             ],
             [
              0.1111111111111111,
              "#46039f"
             ],
             [
              0.2222222222222222,
              "#7201a8"
             ],
             [
              0.3333333333333333,
              "#9c179e"
             ],
             [
              0.4444444444444444,
              "#bd3786"
             ],
             [
              0.5555555555555556,
              "#d8576b"
             ],
             [
              0.6666666666666666,
              "#ed7953"
             ],
             [
              0.7777777777777778,
              "#fb9f3a"
             ],
             [
              0.8888888888888888,
              "#fdca26"
             ],
             [
              1,
              "#f0f921"
             ]
            ],
            "type": "surface"
           }
          ],
          "table": [
           {
            "cells": {
             "fill": {
              "color": "#EBF0F8"
             },
             "line": {
              "color": "white"
             }
            },
            "header": {
             "fill": {
              "color": "#C8D4E3"
             },
             "line": {
              "color": "white"
             }
            },
            "type": "table"
           }
          ]
         },
         "layout": {
          "annotationdefaults": {
           "arrowcolor": "#2a3f5f",
           "arrowhead": 0,
           "arrowwidth": 1
          },
          "autotypenumbers": "strict",
          "coloraxis": {
           "colorbar": {
            "outlinewidth": 0,
            "ticks": ""
           }
          },
          "colorscale": {
           "diverging": [
            [
             0,
             "#8e0152"
            ],
            [
             0.1,
             "#c51b7d"
            ],
            [
             0.2,
             "#de77ae"
            ],
            [
             0.3,
             "#f1b6da"
            ],
            [
             0.4,
             "#fde0ef"
            ],
            [
             0.5,
             "#f7f7f7"
            ],
            [
             0.6,
             "#e6f5d0"
            ],
            [
             0.7,
             "#b8e186"
            ],
            [
             0.8,
             "#7fbc41"
            ],
            [
             0.9,
             "#4d9221"
            ],
            [
             1,
             "#276419"
            ]
           ],
           "sequential": [
            [
             0,
             "#0d0887"
            ],
            [
             0.1111111111111111,
             "#46039f"
            ],
            [
             0.2222222222222222,
             "#7201a8"
            ],
            [
             0.3333333333333333,
             "#9c179e"
            ],
            [
             0.4444444444444444,
             "#bd3786"
            ],
            [
             0.5555555555555556,
             "#d8576b"
            ],
            [
             0.6666666666666666,
             "#ed7953"
            ],
            [
             0.7777777777777778,
             "#fb9f3a"
            ],
            [
             0.8888888888888888,
             "#fdca26"
            ],
            [
             1,
             "#f0f921"
            ]
           ],
           "sequentialminus": [
            [
             0,
             "#0d0887"
            ],
            [
             0.1111111111111111,
             "#46039f"
            ],
            [
             0.2222222222222222,
             "#7201a8"
            ],
            [
             0.3333333333333333,
             "#9c179e"
            ],
            [
             0.4444444444444444,
             "#bd3786"
            ],
            [
             0.5555555555555556,
             "#d8576b"
            ],
            [
             0.6666666666666666,
             "#ed7953"
            ],
            [
             0.7777777777777778,
             "#fb9f3a"
            ],
            [
             0.8888888888888888,
             "#fdca26"
            ],
            [
             1,
             "#f0f921"
            ]
           ]
          },
          "colorway": [
           "#636efa",
           "#EF553B",
           "#00cc96",
           "#ab63fa",
           "#FFA15A",
           "#19d3f3",
           "#FF6692",
           "#B6E880",
           "#FF97FF",
           "#FECB52"
          ],
          "font": {
           "color": "#2a3f5f"
          },
          "geo": {
           "bgcolor": "white",
           "lakecolor": "white",
           "landcolor": "#E5ECF6",
           "showlakes": true,
           "showland": true,
           "subunitcolor": "white"
          },
          "hoverlabel": {
           "align": "left"
          },
          "hovermode": "closest",
          "mapbox": {
           "style": "light"
          },
          "paper_bgcolor": "white",
          "plot_bgcolor": "#E5ECF6",
          "polar": {
           "angularaxis": {
            "gridcolor": "white",
            "linecolor": "white",
            "ticks": ""
           },
           "bgcolor": "#E5ECF6",
           "radialaxis": {
            "gridcolor": "white",
            "linecolor": "white",
            "ticks": ""
           }
          },
          "scene": {
           "xaxis": {
            "backgroundcolor": "#E5ECF6",
            "gridcolor": "white",
            "gridwidth": 2,
            "linecolor": "white",
            "showbackground": true,
            "ticks": "",
            "zerolinecolor": "white"
           },
           "yaxis": {
            "backgroundcolor": "#E5ECF6",
            "gridcolor": "white",
            "gridwidth": 2,
            "linecolor": "white",
            "showbackground": true,
            "ticks": "",
            "zerolinecolor": "white"
           },
           "zaxis": {
            "backgroundcolor": "#E5ECF6",
            "gridcolor": "white",
            "gridwidth": 2,
            "linecolor": "white",
            "showbackground": true,
            "ticks": "",
            "zerolinecolor": "white"
           }
          },
          "shapedefaults": {
           "line": {
            "color": "#2a3f5f"
           }
          },
          "ternary": {
           "aaxis": {
            "gridcolor": "white",
            "linecolor": "white",
            "ticks": ""
           },
           "baxis": {
            "gridcolor": "white",
            "linecolor": "white",
            "ticks": ""
           },
           "bgcolor": "#E5ECF6",
           "caxis": {
            "gridcolor": "white",
            "linecolor": "white",
            "ticks": ""
           }
          },
          "title": {
           "x": 0.05
          },
          "xaxis": {
           "automargin": true,
           "gridcolor": "white",
           "linecolor": "white",
           "ticks": "",
           "title": {
            "standoff": 15
           },
           "zerolinecolor": "white",
           "zerolinewidth": 2
          },
          "yaxis": {
           "automargin": true,
           "gridcolor": "white",
           "linecolor": "white",
           "ticks": "",
           "title": {
            "standoff": 15
           },
           "zerolinecolor": "white",
           "zerolinewidth": 2
          }
         }
        },
        "title": {
         "text": "Count of target variable for faile and pass data"
        }
       }
      }
     },
     "metadata": {},
     "output_type": "display_data"
    }
   ],
   "source": [
    "result_fail = labels_df[labels_df['classifications'] != -1]\n",
    "result_pass = labels_df[labels_df['classifications'] == -1]\n",
    "\n",
    "print(f\"The number of failure: {len(result_fail)} \\nThe number of pass:    {len(result_pass)}\")\n",
    "\n",
    "trace = go.Bar(x = (len(result_fail), len(result_pass)), y = ['Fail', 'Pass'], orientation = 'h', opacity = 0.8, marker=dict(\n",
    "        color=[ 'green', 'blue'],\n",
    "        line=dict(color='#000000',width=1.5)))\n",
    "\n",
    "layout = dict(title =  'Count of target variable for faile and pass data')\n",
    "                    \n",
    "fig = dict(data = [trace], layout=layout)\n",
    "plotly.offline.iplot(fig)"
   ]
  },
  {
   "cell_type": "code",
   "execution_count": 11,
   "id": "f2f00568-8024-4941-b47d-c4e674e35f71",
   "metadata": {
    "tags": []
   },
   "outputs": [
    {
     "data": {
      "text/plain": [
       "1253"
      ]
     },
     "metadata": {},
     "output_type": "display_data"
    },
    {
     "data": {
      "text/plain": [
       "314"
      ]
     },
     "metadata": {},
     "output_type": "display_data"
    }
   ],
   "source": [
    "# # splitting the original data between test and training data\n",
    "\n",
    "# train_data, test_data = train_test_split(labels_df, test_size=0.2, random_state=42)\n",
    "# display(len(train_data))\n",
    "# display(len(test_data))"
   ]
  },
  {
   "cell_type": "code",
   "execution_count": 12,
   "id": "bde4c451-48b9-4842-bcf3-bce06d1487de",
   "metadata": {
    "tags": []
   },
   "outputs": [
    {
     "data": {
      "text/plain": [
       "0.25059856344772546"
      ]
     },
     "execution_count": 12,
     "metadata": {},
     "output_type": "execute_result"
    }
   ],
   "source": [
    "# test_percentage = len(test_data)/len(train_data)\n",
    "# test_percentage"
   ]
  },
  {
   "cell_type": "markdown",
   "id": "4b210cbd-ac72-468d-bdc7-1fa7d1c5f21f",
   "metadata": {},
   "source": [
    "#### 2.2 -3 SECOM.data / features data"
   ]
  },
  {
   "cell_type": "code",
   "execution_count": 7,
   "id": "5db3bdc8-8b56-4254-a2cc-d40b7f70f546",
   "metadata": {},
   "outputs": [
    {
     "name": "stdout",
     "output_type": "stream",
     "text": [
      "Dimensions of Features' data:  (1567, 591)\n",
      "---------------------------------------------------------\n",
      "   feature_1  feature_2  feature_3  feature_4  feature_5  feature_6  \\\n",
      "0    3030.93    2564.00  2187.7333  1411.1265     1.3602      100.0   \n",
      "1    3095.78    2465.14  2230.4222  1463.6606     0.8294      100.0   \n",
      "2    2932.61    2559.94  2186.4111  1698.0172     1.5102      100.0   \n",
      "3    2988.72    2479.90  2199.0333   909.7926     1.3204      100.0   \n",
      "4    3032.24    2502.87  2233.3667  1326.5200     1.5334      100.0   \n",
      "\n",
      "   feature_7  feature_8  feature_9  feature_10  ...  feature_582  feature_583  \\\n",
      "0    97.6133     0.1242     1.5005      0.0162  ...          NaN       0.5005   \n",
      "1   102.3433     0.1247     1.4966     -0.0005  ...     208.2045       0.5019   \n",
      "2    95.4878     0.1241     1.4436      0.0041  ...      82.8602       0.4958   \n",
      "3   104.2367     0.1217     1.4882     -0.0124  ...      73.8432       0.4990   \n",
      "4   100.3967     0.1235     1.5031     -0.0031  ...          NaN       0.4800   \n",
      "\n",
      "   feature_584  feature_585  feature_586  feature_587  feature_588  \\\n",
      "0       0.0118       0.0035       2.3630          NaN          NaN   \n",
      "1       0.0223       0.0055       4.4447       0.0096       0.0201   \n",
      "2       0.0157       0.0039       3.1745       0.0584       0.0484   \n",
      "3       0.0103       0.0025       2.0544       0.0202       0.0149   \n",
      "4       0.4766       0.1045      99.3032       0.0202       0.0149   \n",
      "\n",
      "   feature_589  feature_590  feature_591  \n",
      "0          NaN          NaN          NaN  \n",
      "1       0.0060     208.2045          NaN  \n",
      "2       0.0148      82.8602          NaN  \n",
      "3       0.0044      73.8432          NaN  \n",
      "4       0.0044      73.8432          NaN  \n",
      "\n",
      "[5 rows x 591 columns]\n"
     ]
    }
   ],
   "source": [
    "f_column_names = [f\"feature_{i}\" for i in range(1, 592)]\n",
    "\n",
    "secom_features_df = pd.read_csv(f_file, sep=r'\\s+', header=None, names= f_column_names)\n",
    "print(f\"Dimensions of Features' data: \", secom_features_df.shape)\n",
    "print(\"---------------------------------------------------------\")\n",
    "print(secom_features_df.head())"
   ]
  },
  {
   "cell_type": "code",
   "execution_count": 8,
   "id": "24ba8728",
   "metadata": {},
   "outputs": [
    {
     "data": {
      "text/plain": [
       "0      NaN\n",
       "1      NaN\n",
       "2      NaN\n",
       "3      NaN\n",
       "4      NaN\n",
       "        ..\n",
       "1562   NaN\n",
       "1563   NaN\n",
       "1564   NaN\n",
       "1565   NaN\n",
       "1566   NaN\n",
       "Name: Missing Value, Length: 1567, dtype: float64"
      ]
     },
     "execution_count": 8,
     "metadata": {},
     "output_type": "execute_result"
    }
   ],
   "source": [
    "features_df = secom_features_df.copy()\n",
    "features_df[\"Missing Value\"] = features_df.isna().sum()\n",
    "features_df[\"Missing Value\"]"
   ]
  },
  {
   "cell_type": "code",
   "execution_count": 74,
   "id": "c3c9aca0",
   "metadata": {},
   "outputs": [
    {
     "data": {
      "text/html": [
       "<div>\n",
       "<style scoped>\n",
       "    .dataframe tbody tr th:only-of-type {\n",
       "        vertical-align: middle;\n",
       "    }\n",
       "\n",
       "    .dataframe tbody tr th {\n",
       "        vertical-align: top;\n",
       "    }\n",
       "\n",
       "    .dataframe thead th {\n",
       "        text-align: right;\n",
       "    }\n",
       "</style>\n",
       "<table border=\"1\" class=\"dataframe\">\n",
       "  <thead>\n",
       "    <tr style=\"text-align: right;\">\n",
       "      <th></th>\n",
       "      <th>feature_1</th>\n",
       "      <th>feature_2</th>\n",
       "      <th>feature_3</th>\n",
       "      <th>feature_4</th>\n",
       "      <th>feature_5</th>\n",
       "      <th>feature_6</th>\n",
       "      <th>feature_7</th>\n",
       "      <th>feature_8</th>\n",
       "      <th>feature_9</th>\n",
       "      <th>feature_10</th>\n",
       "      <th>...</th>\n",
       "      <th>feature_582</th>\n",
       "      <th>feature_583</th>\n",
       "      <th>feature_584</th>\n",
       "      <th>feature_585</th>\n",
       "      <th>feature_586</th>\n",
       "      <th>feature_587</th>\n",
       "      <th>feature_588</th>\n",
       "      <th>feature_589</th>\n",
       "      <th>feature_590</th>\n",
       "      <th>feature_591</th>\n",
       "    </tr>\n",
       "  </thead>\n",
       "  <tbody>\n",
       "    <tr>\n",
       "      <th>count</th>\n",
       "      <td>8.000000</td>\n",
       "      <td>8.000000</td>\n",
       "      <td>8.000000</td>\n",
       "      <td>8.000000</td>\n",
       "      <td>8.000000</td>\n",
       "      <td>8.000000</td>\n",
       "      <td>8.000000</td>\n",
       "      <td>8.000000</td>\n",
       "      <td>8.000000</td>\n",
       "      <td>8.000000</td>\n",
       "      <td>...</td>\n",
       "      <td>8.000000</td>\n",
       "      <td>8.000000</td>\n",
       "      <td>8.000000</td>\n",
       "      <td>8.000000</td>\n",
       "      <td>8.000000</td>\n",
       "      <td>8.000000</td>\n",
       "      <td>8.000000</td>\n",
       "      <td>8.000000</td>\n",
       "      <td>8.000000</td>\n",
       "      <td>1.0</td>\n",
       "    </tr>\n",
       "    <tr>\n",
       "      <th>mean</th>\n",
       "      <td>2472.883085</td>\n",
       "      <td>2078.990367</td>\n",
       "      <td>1844.894221</td>\n",
       "      <td>1383.052958</td>\n",
       "      <td>341.578857</td>\n",
       "      <td>269.125000</td>\n",
       "      <td>271.969040</td>\n",
       "      <td>194.828335</td>\n",
       "      <td>196.721732</td>\n",
       "      <td>195.629009</td>\n",
       "      <td>...</td>\n",
       "      <td>221.971636</td>\n",
       "      <td>196.123947</td>\n",
       "      <td>195.819625</td>\n",
       "      <td>195.765571</td>\n",
       "      <td>210.188236</td>\n",
       "      <td>195.772655</td>\n",
       "      <td>195.769260</td>\n",
       "      <td>195.756506</td>\n",
       "      <td>340.985698</td>\n",
       "      <td>0.0</td>\n",
       "    </tr>\n",
       "    <tr>\n",
       "      <th>std</th>\n",
       "      <td>1109.001613</td>\n",
       "      <td>891.252031</td>\n",
       "      <td>770.362628</td>\n",
       "      <td>1096.086719</td>\n",
       "      <td>623.789231</td>\n",
       "      <td>519.942699</td>\n",
       "      <td>518.874817</td>\n",
       "      <td>550.804533</td>\n",
       "      <td>552.868134</td>\n",
       "      <td>553.309437</td>\n",
       "      <td>...</td>\n",
       "      <td>285.247330</td>\n",
       "      <td>553.513539</td>\n",
       "      <td>553.636501</td>\n",
       "      <td>553.658319</td>\n",
       "      <td>548.873105</td>\n",
       "      <td>553.655457</td>\n",
       "      <td>553.656828</td>\n",
       "      <td>553.661981</td>\n",
       "      <td>548.355979</td>\n",
       "      <td>NaN</td>\n",
       "    </tr>\n",
       "    <tr>\n",
       "      <th>min</th>\n",
       "      <td>73.621787</td>\n",
       "      <td>80.407705</td>\n",
       "      <td>29.513152</td>\n",
       "      <td>0.000000</td>\n",
       "      <td>0.681500</td>\n",
       "      <td>0.000000</td>\n",
       "      <td>6.237214</td>\n",
       "      <td>0.000000</td>\n",
       "      <td>0.073897</td>\n",
       "      <td>-0.053400</td>\n",
       "      <td>...</td>\n",
       "      <td>0.000000</td>\n",
       "      <td>0.003404</td>\n",
       "      <td>0.006000</td>\n",
       "      <td>0.001700</td>\n",
       "      <td>1.197500</td>\n",
       "      <td>-0.016900</td>\n",
       "      <td>0.003200</td>\n",
       "      <td>0.001000</td>\n",
       "      <td>0.000000</td>\n",
       "      <td>0.0</td>\n",
       "    </tr>\n",
       "    <tr>\n",
       "      <th>25%</th>\n",
       "      <td>2447.680000</td>\n",
       "      <td>2009.062500</td>\n",
       "      <td>1933.745000</td>\n",
       "      <td>921.829760</td>\n",
       "      <td>1.242025</td>\n",
       "      <td>100.000000</td>\n",
       "      <td>93.972775</td>\n",
       "      <td>0.093065</td>\n",
       "      <td>1.356150</td>\n",
       "      <td>-0.003675</td>\n",
       "      <td>...</td>\n",
       "      <td>65.762900</td>\n",
       "      <td>0.492875</td>\n",
       "      <td>0.013250</td>\n",
       "      <td>0.003475</td>\n",
       "      <td>2.644862</td>\n",
       "      <td>0.013158</td>\n",
       "      <td>0.010152</td>\n",
       "      <td>0.003192</td>\n",
       "      <td>65.017525</td>\n",
       "      <td>0.0</td>\n",
       "    </tr>\n",
       "    <tr>\n",
       "      <th>50%</th>\n",
       "      <td>2988.875000</td>\n",
       "      <td>2474.048865</td>\n",
       "      <td>2190.795859</td>\n",
       "      <td>1340.795514</td>\n",
       "      <td>2.861357</td>\n",
       "      <td>100.000000</td>\n",
       "      <td>101.312554</td>\n",
       "      <td>0.122111</td>\n",
       "      <td>1.462231</td>\n",
       "      <td>0.003779</td>\n",
       "      <td>...</td>\n",
       "      <td>92.727670</td>\n",
       "      <td>0.500148</td>\n",
       "      <td>0.015909</td>\n",
       "      <td>0.003783</td>\n",
       "      <td>3.181501</td>\n",
       "      <td>0.020979</td>\n",
       "      <td>0.015637</td>\n",
       "      <td>0.004942</td>\n",
       "      <td>96.780993</td>\n",
       "      <td>0.0</td>\n",
       "    </tr>\n",
       "    <tr>\n",
       "      <th>75%</th>\n",
       "      <td>3025.002172</td>\n",
       "      <td>2509.259375</td>\n",
       "      <td>2205.313900</td>\n",
       "      <td>1562.555875</td>\n",
       "      <td>320.900805</td>\n",
       "      <td>100.000000</td>\n",
       "      <td>110.753075</td>\n",
       "      <td>0.125000</td>\n",
       "      <td>1.551775</td>\n",
       "      <td>0.030062</td>\n",
       "      <td>...</td>\n",
       "      <td>241.904362</td>\n",
       "      <td>0.504231</td>\n",
       "      <td>0.132035</td>\n",
       "      <td>0.029200</td>\n",
       "      <td>27.509325</td>\n",
       "      <td>0.046400</td>\n",
       "      <td>0.035200</td>\n",
       "      <td>0.011950</td>\n",
       "      <td>270.388475</td>\n",
       "      <td>0.0</td>\n",
       "    </tr>\n",
       "    <tr>\n",
       "      <th>max</th>\n",
       "      <td>3356.350000</td>\n",
       "      <td>2846.440000</td>\n",
       "      <td>2315.266700</td>\n",
       "      <td>3715.041700</td>\n",
       "      <td>1553.000000</td>\n",
       "      <td>1553.000000</td>\n",
       "      <td>1553.000000</td>\n",
       "      <td>1558.000000</td>\n",
       "      <td>1565.000000</td>\n",
       "      <td>1565.000000</td>\n",
       "      <td>...</td>\n",
       "      <td>737.304800</td>\n",
       "      <td>1566.000000</td>\n",
       "      <td>1566.000000</td>\n",
       "      <td>1566.000000</td>\n",
       "      <td>1566.000000</td>\n",
       "      <td>1566.000000</td>\n",
       "      <td>1566.000000</td>\n",
       "      <td>1566.000000</td>\n",
       "      <td>1566.000000</td>\n",
       "      <td>0.0</td>\n",
       "    </tr>\n",
       "  </tbody>\n",
       "</table>\n",
       "<p>8 rows × 591 columns</p>\n",
       "</div>"
      ],
      "text/plain": [
       "         feature_1    feature_2    feature_3    feature_4    feature_5  \\\n",
       "count     8.000000     8.000000     8.000000     8.000000     8.000000   \n",
       "mean   2472.883085  2078.990367  1844.894221  1383.052958   341.578857   \n",
       "std    1109.001613   891.252031   770.362628  1096.086719   623.789231   \n",
       "min      73.621787    80.407705    29.513152     0.000000     0.681500   \n",
       "25%    2447.680000  2009.062500  1933.745000   921.829760     1.242025   \n",
       "50%    2988.875000  2474.048865  2190.795859  1340.795514     2.861357   \n",
       "75%    3025.002172  2509.259375  2205.313900  1562.555875   320.900805   \n",
       "max    3356.350000  2846.440000  2315.266700  3715.041700  1553.000000   \n",
       "\n",
       "         feature_6    feature_7    feature_8    feature_9   feature_10  ...  \\\n",
       "count     8.000000     8.000000     8.000000     8.000000     8.000000  ...   \n",
       "mean    269.125000   271.969040   194.828335   196.721732   195.629009  ...   \n",
       "std     519.942699   518.874817   550.804533   552.868134   553.309437  ...   \n",
       "min       0.000000     6.237214     0.000000     0.073897    -0.053400  ...   \n",
       "25%     100.000000    93.972775     0.093065     1.356150    -0.003675  ...   \n",
       "50%     100.000000   101.312554     0.122111     1.462231     0.003779  ...   \n",
       "75%     100.000000   110.753075     0.125000     1.551775     0.030062  ...   \n",
       "max    1553.000000  1553.000000  1558.000000  1565.000000  1565.000000  ...   \n",
       "\n",
       "       feature_582  feature_583  feature_584  feature_585  feature_586  \\\n",
       "count     8.000000     8.000000     8.000000     8.000000     8.000000   \n",
       "mean    221.971636   196.123947   195.819625   195.765571   210.188236   \n",
       "std     285.247330   553.513539   553.636501   553.658319   548.873105   \n",
       "min       0.000000     0.003404     0.006000     0.001700     1.197500   \n",
       "25%      65.762900     0.492875     0.013250     0.003475     2.644862   \n",
       "50%      92.727670     0.500148     0.015909     0.003783     3.181501   \n",
       "75%     241.904362     0.504231     0.132035     0.029200    27.509325   \n",
       "max     737.304800  1566.000000  1566.000000  1566.000000  1566.000000   \n",
       "\n",
       "       feature_587  feature_588  feature_589  feature_590  feature_591  \n",
       "count     8.000000     8.000000     8.000000     8.000000          1.0  \n",
       "mean    195.772655   195.769260   195.756506   340.985698          0.0  \n",
       "std     553.655457   553.656828   553.661981   548.355979          NaN  \n",
       "min      -0.016900     0.003200     0.001000     0.000000          0.0  \n",
       "25%       0.013158     0.010152     0.003192    65.017525          0.0  \n",
       "50%       0.020979     0.015637     0.004942    96.780993          0.0  \n",
       "75%       0.046400     0.035200     0.011950   270.388475          0.0  \n",
       "max    1566.000000  1566.000000  1566.000000  1566.000000          0.0  \n",
       "\n",
       "[8 rows x 591 columns]"
      ]
     },
     "execution_count": 74,
     "metadata": {},
     "output_type": "execute_result"
    }
   ],
   "source": [
    "features_df = secom_features_df.copy()\n",
    "features_df.isna().sum()\n",
    "\n",
    "features_df.describe().describe()\n",
    "\n"
   ]
  },
  {
   "cell_type": "markdown",
   "id": "767dc5a1",
   "metadata": {},
   "source": []
  },
  {
   "cell_type": "markdown",
   "id": "0cd6c776",
   "metadata": {},
   "source": [
    "# 3.0 DATA PREPARATION"
   ]
  },
  {
   "cell_type": "markdown",
   "id": "10b7ca0d",
   "metadata": {},
   "source": [
    "#### 3.1 Merge the Features and Labels data frames"
   ]
  },
  {
   "cell_type": "code",
   "execution_count": 16,
   "id": "fd280fe3-f7f1-445a-863f-502ec2cbb515",
   "metadata": {},
   "outputs": [
    {
     "name": "stdout",
     "output_type": "stream",
     "text": [
      "Dimensions of merged data:  (1567, 593)\n",
      "   classifications           date_time  feature_1  feature_2  feature_3  \\\n",
      "0               -1 2008-07-19 11:55:00    3030.93    2564.00  2187.7333   \n",
      "1               -1 2008-07-19 12:32:00    3095.78    2465.14  2230.4222   \n",
      "2                1 2008-07-19 13:17:00    2932.61    2559.94  2186.4111   \n",
      "3               -1 2008-07-19 14:43:00    2988.72    2479.90  2199.0333   \n",
      "4               -1 2008-07-19 15:22:00    3032.24    2502.87  2233.3667   \n",
      "\n",
      "   feature_4  feature_5  feature_6  feature_7  feature_8  ...  feature_582  \\\n",
      "0  1411.1265     1.3602      100.0    97.6133     0.1242  ...          NaN   \n",
      "1  1463.6606     0.8294      100.0   102.3433     0.1247  ...     208.2045   \n",
      "2  1698.0172     1.5102      100.0    95.4878     0.1241  ...      82.8602   \n",
      "3   909.7926     1.3204      100.0   104.2367     0.1217  ...      73.8432   \n",
      "4  1326.5200     1.5334      100.0   100.3967     0.1235  ...          NaN   \n",
      "\n",
      "   feature_583  feature_584  feature_585  feature_586  feature_587  \\\n",
      "0       0.5005       0.0118       0.0035       2.3630          NaN   \n",
      "1       0.5019       0.0223       0.0055       4.4447       0.0096   \n",
      "2       0.4958       0.0157       0.0039       3.1745       0.0584   \n",
      "3       0.4990       0.0103       0.0025       2.0544       0.0202   \n",
      "4       0.4800       0.4766       0.1045      99.3032       0.0202   \n",
      "\n",
      "   feature_588  feature_589  feature_590  feature_591  \n",
      "0          NaN          NaN          NaN          NaN  \n",
      "1       0.0201       0.0060     208.2045          NaN  \n",
      "2       0.0484       0.0148      82.8602          NaN  \n",
      "3       0.0149       0.0044      73.8432          NaN  \n",
      "4       0.0149       0.0044      73.8432          NaN  \n",
      "\n",
      "[5 rows x 593 columns]\n"
     ]
    }
   ],
   "source": [
    "# merging \n",
    "\n",
    "merged_df = pd.merge(labels_df, secom_features_df, left_index=True, right_index=True)\n",
    "\n",
    "print(f\"Dimensions of merged data: \", merged_df.shape)\n",
    "\n",
    "print(merged_df.head())\n"
   ]
  },
  {
   "cell_type": "markdown",
   "id": "8e44f84e",
   "metadata": {},
   "source": [
    "#### 3.2 splitting training and test dataset"
   ]
  },
  {
   "cell_type": "code",
   "execution_count": 17,
   "id": "a99afb12",
   "metadata": {},
   "outputs": [
    {
     "name": "stdout",
     "output_type": "stream",
     "text": [
      "passed chips are: 1463 \n",
      "failed chips are: 104\n"
     ]
    }
   ],
   "source": [
    "# separating the merged df into pass and fail    #### preparing for constrained data splitting \n",
    "\n",
    "failed_chip = merged_df[merged_df[\"classifications\"] == 1]\n",
    "passed_chip = merged_df[merged_df[\"classifications\"] == -1]\n",
    "\n",
    "print(f\"passed chips are: {len(passed_chip)} \\nfailed chips are: {len(failed_chip)}\")\n"
   ]
  },
  {
   "cell_type": "code",
   "execution_count": 18,
   "id": "a151ca19",
   "metadata": {},
   "outputs": [
    {
     "name": "stdout",
     "output_type": "stream",
     "text": [
      "failed chips for training are: 83 \n",
      "failed chips for testing are:  21\n",
      "the percentage of the testing is 25.3 %\n"
     ]
    }
   ],
   "source": [
    "# splitting the failed into 25% and 75% \n",
    "\n",
    "train_data_failed, test_data_failed = train_test_split(failed_chip, test_size=0.2, random_state=42)\n",
    "\n",
    "print(f\"failed chips for training are: {len(train_data_failed)} \\nfailed chips for testing are:  {len(test_data_failed)}\")\n",
    "print(f\"the percentage of the testing is {round( len(test_data_failed) / len(train_data_failed ), 4) * 100} %\")"
   ]
  },
  {
   "cell_type": "code",
   "execution_count": 19,
   "id": "e3883b6e",
   "metadata": {},
   "outputs": [
    {
     "name": "stdout",
     "output_type": "stream",
     "text": [
      "passed chips for training are: 1170 \n",
      "passed chips for testing are:  293\n",
      "the percentage of the testing is 25.0 %\n"
     ]
    }
   ],
   "source": [
    "# splitting the passed into 25% and 75% \n",
    "\n",
    "train_data_passed, test_data_passed = train_test_split(passed_chip, test_size=0.2, random_state=42)\n",
    "\n",
    "print(f\"passed chips for training are: {len(train_data_passed)} \\npassed chips for testing are:  {len(test_data_passed)}\")\n",
    "print(f\"the percentage of the testing is {round( len(test_data_passed) / len(train_data_passed ), 3) * 100} %\")"
   ]
  },
  {
   "cell_type": "code",
   "execution_count": 20,
   "id": "9face367",
   "metadata": {},
   "outputs": [
    {
     "name": "stdout",
     "output_type": "stream",
     "text": [
      "1253\n",
      "check: train_failed 83 + train_passed 1170 = 1253\n",
      "---------------------------------------------------------------\n",
      "314\n",
      "check: train_failed 21 + train_passed 293 = 314\n"
     ]
    }
   ],
   "source": [
    "# combining the train_failed and train_passed\n",
    "training_df = pd.concat([train_data_failed, train_data_passed])\n",
    "### counting the num of rows to check if it's properly combined \n",
    "print(len(training_df))\n",
    "print(f\"check: train_failed {len(train_data_failed)} + train_passed {len(train_data_passed)} = {len(train_data_failed) + len(train_data_passed)}\")\n",
    "\n",
    "print(\"---------------------------------------------------------------\")\n",
    "\n",
    "# combining the testing_failed and testing_passed  \n",
    "testing_df = pd.concat([test_data_failed, test_data_passed])\n",
    "### counting the num of rows to check if it's properly combined \n",
    "print(len(testing_df))\n",
    "print(f\"check: train_failed {len(test_data_failed)} + train_passed {len(test_data_passed)} = {len(test_data_failed) + len(test_data_passed)}\")\n",
    "\n"
   ]
  },
  {
   "cell_type": "code",
   "execution_count": null,
   "id": "6517286d",
   "metadata": {},
   "outputs": [],
   "source": []
  },
  {
   "cell_type": "code",
   "execution_count": null,
   "id": "175abc0e",
   "metadata": {},
   "outputs": [],
   "source": []
  },
  {
   "cell_type": "code",
   "execution_count": null,
   "id": "8b1637ca",
   "metadata": {},
   "outputs": [],
   "source": []
  },
  {
   "cell_type": "code",
   "execution_count": null,
   "id": "7cf6a7d3",
   "metadata": {},
   "outputs": [],
   "source": []
  },
  {
   "cell_type": "code",
   "execution_count": null,
   "id": "c2a28a1c",
   "metadata": {},
   "outputs": [],
   "source": []
  },
  {
   "cell_type": "code",
   "execution_count": null,
   "id": "4bf16e2e",
   "metadata": {},
   "outputs": [],
   "source": []
  },
  {
   "cell_type": "code",
   "execution_count": null,
   "id": "552728bb",
   "metadata": {},
   "outputs": [],
   "source": []
  },
  {
   "cell_type": "code",
   "execution_count": null,
   "id": "9654fdfc",
   "metadata": {},
   "outputs": [],
   "source": []
  },
  {
   "cell_type": "code",
   "execution_count": null,
   "id": "7cf591ac",
   "metadata": {},
   "outputs": [],
   "source": []
  },
  {
   "cell_type": "code",
   "execution_count": 43,
   "id": "e60d189e",
   "metadata": {},
   "outputs": [
    {
     "name": "stdout",
     "output_type": "stream",
     "text": [
      "there are 24 columns that contain missing value\n"
     ]
    },
    {
     "data": {
      "image/png": "[encoded data removed]",
      "text/plain": [
       "<Figure size 432x288 with 1 Axes>"
      ]
     },
     "metadata": {
      "needs_background": "light"
     },
     "output_type": "display_data"
    }
   ],
   "source": [
    "missing_list = secom_features_df.isnull().sum()\n",
    "missing_list = missing_list.sort_values(ascending=False)\n",
    "missing_count = missing_list.value_counts(dropna=False)\n",
    "print(f\"there are {len(missing_count)} columns that contain missing value\")\n",
    "plt.hist(missing_count, bins=30)\n",
    "plt.title('Histogram of missing value by column')\n",
    "plt.xlabel('number of missing rows')\n",
    "plt.ylabel('count')\n",
    "plt.show()"
   ]
  },
  {
   "cell_type": "code",
   "execution_count": 71,
   "id": "1a007d67",
   "metadata": {},
   "outputs": [
    {
     "data": {
      "text/html": [
       "<div>\n",
       "<style scoped>\n",
       "    .dataframe tbody tr th:only-of-type {\n",
       "        vertical-align: middle;\n",
       "    }\n",
       "\n",
       "    .dataframe tbody tr th {\n",
       "        vertical-align: top;\n",
       "    }\n",
       "\n",
       "    .dataframe thead th {\n",
       "        text-align: right;\n",
       "    }\n",
       "</style>\n",
       "<table border=\"1\" class=\"dataframe\">\n",
       "  <thead>\n",
       "    <tr style=\"text-align: right;\">\n",
       "      <th></th>\n",
       "      <th>counts</th>\n",
       "    </tr>\n",
       "  </thead>\n",
       "  <tbody>\n",
       "    <tr>\n",
       "      <th>6</th>\n",
       "      <td>100</td>\n",
       "    </tr>\n",
       "    <tr>\n",
       "      <th>1</th>\n",
       "      <td>92</td>\n",
       "    </tr>\n",
       "    <tr>\n",
       "      <th>2</th>\n",
       "      <td>84</td>\n",
       "    </tr>\n",
       "    <tr>\n",
       "      <th>0</th>\n",
       "      <td>52</td>\n",
       "    </tr>\n",
       "    <tr>\n",
       "      <th>9</th>\n",
       "      <td>48</td>\n",
       "    </tr>\n",
       "    <tr>\n",
       "      <th>24</th>\n",
       "      <td>43</td>\n",
       "    </tr>\n",
       "    <tr>\n",
       "      <th>3</th>\n",
       "      <td>24</td>\n",
       "    </tr>\n",
       "    <tr>\n",
       "      <th>4</th>\n",
       "      <td>24</td>\n",
       "    </tr>\n",
       "    <tr>\n",
       "      <th>14</th>\n",
       "      <td>20</td>\n",
       "    </tr>\n",
       "    <tr>\n",
       "      <th>7</th>\n",
       "      <td>20</td>\n",
       "    </tr>\n",
       "    <tr>\n",
       "      <th>8</th>\n",
       "      <td>12</td>\n",
       "    </tr>\n",
       "    <tr>\n",
       "      <th>1018</th>\n",
       "      <td>12</td>\n",
       "    </tr>\n",
       "    <tr>\n",
       "      <th>260</th>\n",
       "      <td>12</td>\n",
       "    </tr>\n",
       "    <tr>\n",
       "      <th>273</th>\n",
       "      <td>8</td>\n",
       "    </tr>\n",
       "    <tr>\n",
       "      <th>51</th>\n",
       "      <td>8</td>\n",
       "    </tr>\n",
       "    <tr>\n",
       "      <th>12</th>\n",
       "      <td>4</td>\n",
       "    </tr>\n",
       "    <tr>\n",
       "      <th>10</th>\n",
       "      <td>4</td>\n",
       "    </tr>\n",
       "    <tr>\n",
       "      <th>1429</th>\n",
       "      <td>4</td>\n",
       "    </tr>\n",
       "    <tr>\n",
       "      <th>715</th>\n",
       "      <td>4</td>\n",
       "    </tr>\n",
       "    <tr>\n",
       "      <th>794</th>\n",
       "      <td>4</td>\n",
       "    </tr>\n",
       "    <tr>\n",
       "      <th>949</th>\n",
       "      <td>4</td>\n",
       "    </tr>\n",
       "    <tr>\n",
       "      <th>1341</th>\n",
       "      <td>4</td>\n",
       "    </tr>\n",
       "    <tr>\n",
       "      <th>5</th>\n",
       "      <td>3</td>\n",
       "    </tr>\n",
       "  </tbody>\n",
       "</table>\n",
       "</div>"
      ],
      "text/plain": [
       "      counts\n",
       "6        100\n",
       "1         92\n",
       "2         84\n",
       "0         52\n",
       "9         48\n",
       "24        43\n",
       "3         24\n",
       "4         24\n",
       "14        20\n",
       "7         20\n",
       "8         12\n",
       "1018      12\n",
       "260       12\n",
       "273        8\n",
       "51         8\n",
       "12         4\n",
       "10         4\n",
       "1429       4\n",
       "715        4\n",
       "794        4\n",
       "949        4\n",
       "1341       4\n",
       "5          3"
      ]
     },
     "execution_count": 71,
     "metadata": {},
     "output_type": "execute_result"
    }
   ],
   "source": [
    "missing_df = pd.DataFrame({\"counts\": missing_count[:-1]})\n",
    "# missing_df[\"num_missing_rows\"] = missing_df.index\n",
    "# missing_df = missing_df[[\"num_missing_rows\", \"counts\"]].reset_index()\n",
    "# missing_df.drop(columns=[\"index\"])\n",
    "# missing_df = missing_df[[\"num_missing_rows\", \"counts\"]]\n",
    "missing_df"
   ]
  },
  {
   "cell_type": "code",
   "execution_count": null,
   "id": "51b56837",
   "metadata": {},
   "outputs": [],
   "source": []
  },
  {
   "cell_type": "code",
   "execution_count": 36,
   "id": "eefc31cc",
   "metadata": {},
   "outputs": [
    {
     "data": {
      "text/plain": [
       "6       100\n",
       "1        92\n",
       "2        84\n",
       "0        52\n",
       "9        48\n",
       "24       43\n",
       "3        24\n",
       "4        24\n",
       "14       20\n",
       "7        20\n",
       "8        12\n",
       "1018     12\n",
       "260      12\n",
       "273       8\n",
       "51        8\n",
       "12        4\n",
       "10        4\n",
       "1429      4\n",
       "715       4\n",
       "794       4\n",
       "949       4\n",
       "1341      4\n",
       "5         3\n",
       "1567      1\n",
       "dtype: int64"
      ]
     },
     "execution_count": 36,
     "metadata": {},
     "output_type": "execute_result"
    }
   ],
   "source": [
    "missing_list.value_counts()"
   ]
  },
  {
   "cell_type": "code",
   "execution_count": null,
   "id": "674fd542",
   "metadata": {},
   "outputs": [],
   "source": []
  },
  {
   "cell_type": "code",
   "execution_count": null,
   "id": "efdce4a5",
   "metadata": {},
   "outputs": [],
   "source": []
  },
  {
   "cell_type": "markdown",
   "id": "cdad0207",
   "metadata": {},
   "source": [
    "# Histogram "
   ]
  },
  {
   "cell_type": "code",
   "execution_count": 12,
   "id": "c3fc2846",
   "metadata": {},
   "outputs": [
    {
     "data": {
      "image/png": "[encoded data removed]",
      "text/plain": [
       "<Figure size 576x432 with 1 Axes>"
      ]
     },
     "metadata": {
      "needs_background": "light"
     },
     "output_type": "display_data"
    }
   ],
   "source": [
    "import matplotlib.pyplot as plt\n",
    "# Calculate volatilities (standard deviations) for each column\n",
    "volatilities = secom_features_df.std()\n",
    "\n",
    "# Plot histogram\n",
    "plt.figure(figsize=(8, 6))\n",
    "plt.hist(volatilities, bins=100, color='skyblue', edgecolor='black')\n",
    "plt.xlabel('Standard Deviation of Features')\n",
    "plt.ylabel('Frequency')\n",
    "plt.title('Histogram of Volatilities')\n",
    "plt.grid(False)\n",
    "plt.show()"
   ]
  },
  {
   "cell_type": "code",
   "execution_count": null,
   "id": "c3adc0f7",
   "metadata": {},
   "outputs": [],
   "source": []
  },
  {
   "cell_type": "code",
   "execution_count": null,
   "id": "6a2cf93d",
   "metadata": {},
   "outputs": [],
   "source": []
  },
  {
   "cell_type": "code",
   "execution_count": null,
   "id": "76146aee",
   "metadata": {},
   "outputs": [],
   "source": []
  },
  {
   "cell_type": "code",
   "execution_count": null,
   "id": "449409bf",
   "metadata": {},
   "outputs": [],
   "source": []
  },
  {
   "cell_type": "code",
   "execution_count": null,
   "id": "b272e7f6",
   "metadata": {},
   "outputs": [],
   "source": []
  },
  {
   "cell_type": "code",
   "execution_count": null,
   "id": "2b41ef1a",
   "metadata": {},
   "outputs": [],
   "source": []
  }
 ],
 "metadata": {
  "kernelspec": {
   "display_name": "Python 3 (ipykernel)",
   "language": "python",
   "name": "python3"
  },
  "language_info": {
   "codemirror_mode": {
    "name": "ipython",
    "version": 3
   },
   "file_extension": ".py",
   "mimetype": "text/x-python",
   "name": "python",
   "nbconvert_exporter": "python",
   "pygments_lexer": "ipython3",
   "version": "3.9.12"
  }
 },
 "nbformat": 4,
 "nbformat_minor": 5
}
